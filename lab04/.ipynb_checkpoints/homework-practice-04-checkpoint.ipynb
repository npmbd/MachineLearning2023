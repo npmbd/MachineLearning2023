{
 "cells": [
  {
   "cell_type": "markdown",
   "id": "38d615f0-6274-4841-b481-2303e151eaf1",
   "metadata": {},
   "source": [
    "## Методы оптимизации в машинном обучении"
   ]
  },
  {
   "cell_type": "code",
   "execution_count": 1,
   "id": "e18f0833-32b1-4289-b058-31a1f69f9e7d",
   "metadata": {},
   "outputs": [],
   "source": [
    "import matplotlib.pyplot as plt\n",
    "import scipy\n",
    "import oracles\n",
    "import numpy as np\n",
    "import optimization\n",
    "from sklearn.datasets import load_svmlight_file\n",
    "import presubmit_tests as tests\n",
    "from plot_trajectory_2d import plot_levels, plot_trajectory"
   ]
  },
  {
   "cell_type": "markdown",
   "id": "59fe6445-0d62-4fd7-bb00-1f6cea5aa01e",
   "metadata": {},
   "source": [
    "Выполним тесты:"
   ]
  },
  {
   "cell_type": "code",
   "execution_count": 2,
   "id": "21cca3cc-276d-4126-8664-dcc7f1439191",
   "metadata": {},
   "outputs": [
    {
     "ename": "TypeError",
     "evalue": "unsupported operand type(s) for -: 'NoneType' and 'float'",
     "output_type": "error",
     "traceback": [
      "\u001b[1;31m---------------------------------------------------------------------------\u001b[0m",
      "\u001b[1;31mTypeError\u001b[0m                                 Traceback (most recent call last)",
      "Cell \u001b[1;32mIn[2], line 3\u001b[0m\n\u001b[0;32m      1\u001b[0m tests\u001b[38;5;241m.\u001b[39mtest_python3()\n\u001b[0;32m      2\u001b[0m tests\u001b[38;5;241m.\u001b[39mtest_QuadraticOracle()\n\u001b[1;32m----> 3\u001b[0m \u001b[43mtests\u001b[49m\u001b[38;5;241;43m.\u001b[39;49m\u001b[43mtest_log_reg_usual\u001b[49m\u001b[43m(\u001b[49m\u001b[43m)\u001b[49m\n\u001b[0;32m      4\u001b[0m tests\u001b[38;5;241m.\u001b[39mtest_log_reg_oracle_calls()\n\u001b[0;32m      5\u001b[0m tests\u001b[38;5;241m.\u001b[39mtest_grad_finite_diff_1()\n",
      "File \u001b[1;32m~\\Downloads\\homework-practice-04-Optimization_in_ML\\presubmit_tests.py:90\u001b[0m, in \u001b[0;36mtest_log_reg_usual\u001b[1;34m()\u001b[0m\n\u001b[0;32m     89\u001b[0m \u001b[38;5;28;01mdef\u001b[39;00m \u001b[38;5;21mtest_log_reg_usual\u001b[39m():\n\u001b[1;32m---> 90\u001b[0m     \u001b[43mcheck_log_reg\u001b[49m\u001b[43m(\u001b[49m\u001b[38;5;124;43m'\u001b[39;49m\u001b[38;5;124;43musual\u001b[39;49m\u001b[38;5;124;43m'\u001b[39;49m\u001b[43m)\u001b[49m\n\u001b[0;32m     91\u001b[0m     check_log_reg(\u001b[38;5;124m'\u001b[39m\u001b[38;5;124musual\u001b[39m\u001b[38;5;124m'\u001b[39m, sparse\u001b[38;5;241m=\u001b[39m\u001b[38;5;28;01mTrue\u001b[39;00m)\n",
      "File \u001b[1;32m~\\Downloads\\homework-practice-04-Optimization_in_ML\\presubmit_tests.py:69\u001b[0m, in \u001b[0;36mcheck_log_reg\u001b[1;34m(oracle_type, sparse)\u001b[0m\n\u001b[0;32m     67\u001b[0m \u001b[38;5;66;03m# Check at point x = [0, 0]\u001b[39;00m\n\u001b[0;32m     68\u001b[0m x \u001b[38;5;241m=\u001b[39m np\u001b[38;5;241m.\u001b[39mzeros(\u001b[38;5;241m2\u001b[39m)\n\u001b[1;32m---> 69\u001b[0m \u001b[43massert_almost_equal\u001b[49m\u001b[43m(\u001b[49m\u001b[43mlogreg\u001b[49m\u001b[38;5;241;43m.\u001b[39;49m\u001b[43mfunc\u001b[49m\u001b[43m(\u001b[49m\u001b[43mx\u001b[49m\u001b[43m)\u001b[49m\u001b[43m,\u001b[49m\u001b[43m \u001b[49m\u001b[38;5;241;43m0.693147180\u001b[39;49m\u001b[43m)\u001b[49m\n\u001b[0;32m     70\u001b[0m ok_(np\u001b[38;5;241m.\u001b[39mallclose(logreg\u001b[38;5;241m.\u001b[39mgrad(x), [\u001b[38;5;241m0\u001b[39m, \u001b[38;5;241m-\u001b[39m\u001b[38;5;241m0.25\u001b[39m]))\n\u001b[0;32m     71\u001b[0m ok_(np\u001b[38;5;241m.\u001b[39mallclose(logreg\u001b[38;5;241m.\u001b[39mhess(x), [[\u001b[38;5;241m0.625\u001b[39m, \u001b[38;5;241m0.0625\u001b[39m], [\u001b[38;5;241m0.0625\u001b[39m, \u001b[38;5;241m0.625\u001b[39m]]))\n",
      "File \u001b[1;32mC:\\Program Files\\WindowsApps\\PythonSoftwareFoundation.Python.3.11_3.11.1776.0_x64__qbz5n2kfra8p0\\Lib\\unittest\\case.py:904\u001b[0m, in \u001b[0;36mTestCase.assertAlmostEqual\u001b[1;34m(self, first, second, places, msg, delta)\u001b[0m\n\u001b[0;32m    901\u001b[0m \u001b[38;5;28;01mif\u001b[39;00m delta \u001b[38;5;129;01mis\u001b[39;00m \u001b[38;5;129;01mnot\u001b[39;00m \u001b[38;5;28;01mNone\u001b[39;00m \u001b[38;5;129;01mand\u001b[39;00m places \u001b[38;5;129;01mis\u001b[39;00m \u001b[38;5;129;01mnot\u001b[39;00m \u001b[38;5;28;01mNone\u001b[39;00m:\n\u001b[0;32m    902\u001b[0m     \u001b[38;5;28;01mraise\u001b[39;00m \u001b[38;5;167;01mTypeError\u001b[39;00m(\u001b[38;5;124m\"\u001b[39m\u001b[38;5;124mspecify delta or places not both\u001b[39m\u001b[38;5;124m\"\u001b[39m)\n\u001b[1;32m--> 904\u001b[0m diff \u001b[38;5;241m=\u001b[39m \u001b[38;5;28mabs\u001b[39m(\u001b[43mfirst\u001b[49m\u001b[43m \u001b[49m\u001b[38;5;241;43m-\u001b[39;49m\u001b[43m \u001b[49m\u001b[43msecond\u001b[49m)\n\u001b[0;32m    905\u001b[0m \u001b[38;5;28;01mif\u001b[39;00m delta \u001b[38;5;129;01mis\u001b[39;00m \u001b[38;5;129;01mnot\u001b[39;00m \u001b[38;5;28;01mNone\u001b[39;00m:\n\u001b[0;32m    906\u001b[0m     \u001b[38;5;28;01mif\u001b[39;00m diff \u001b[38;5;241m<\u001b[39m\u001b[38;5;241m=\u001b[39m delta:\n",
      "\u001b[1;31mTypeError\u001b[0m: unsupported operand type(s) for -: 'NoneType' and 'float'"
     ]
    }
   ],
   "source": [
    "tests.test_python3()\n",
    "tests.test_QuadraticOracle()\n",
    "tests.test_log_reg_usual()\n",
    "tests.test_log_reg_oracle_calls()\n",
    "tests.test_grad_finite_diff_1()\n",
    "tests.test_grad_finite_diff_2()\n",
    "tests.test_hess_finite_diff_1()\n",
    "tests.test_hess_finite_diff_2()\n",
    "tests.test_line_search()\n",
    "tests.test_gd_basic()\n",
    "tests.test_newton_basic()\n",
    "tests.test_newton_1d()\n",
    "tests.test_newton_fail()"
   ]
  },
  {
   "cell_type": "markdown",
   "id": "91f247d6-f0d1-4317-be22-b8dad1ac9f0f",
   "metadata": {},
   "source": [
    "## 1. Эксперимент: Траектория градиентного спуска на квадратичной функции"
   ]
  },
  {
   "cell_type": "markdown",
   "id": "11e81650-7ef8-49ed-aabb-e2f3bb369a79",
   "metadata": {},
   "source": [
    "Как отличается поведение метода в зависимости от числа обусловленности функции, выбора начальной точки и стратегии выбора шага (константная стратегия, Армихо, Вульф)?"
   ]
  },
  {
   "cell_type": "code",
   "execution_count": null,
   "id": "ff8a03c0-5864-432b-8cce-e3334d94252c",
   "metadata": {},
   "outputs": [],
   "source": [
    "x_start = np.array([[3., 4.], [2., -4.], [-1., -1.]])\n",
    "methods = [{'method': 'Constant', 'c': 0.7}, {'method': 'Constant', 'c': 0.01}, \n",
    "           {'method': 'Armijo', 'alpha_0': 100.0, 'c1':0.9}, \n",
    "           {'method':'Armijo', 'alpha_0':1.0, 'c1':0.95}, \n",
    "           {\"method\":'Wolfe', 'c1':1e-4, 'c2':0.8, 'alpha_0':1.0}, \n",
    "           {\"method\":'Wolfe', 'c1':0.1, 'c2':0.95, 'alpha_0':100.0}]"
   ]
  },
  {
   "cell_type": "markdown",
   "id": "0ec0473f-247d-4fbf-bfaa-c705abf7651a",
   "metadata": {},
   "source": [
    "### 1.1. Хорошо обусловленная матрицаь"
   ]
  },
  {
   "cell_type": "code",
   "execution_count": null,
   "id": "7e468a74-32b3-465d-a0cf-786cb4633deb",
   "metadata": {},
   "outputs": [],
   "source": [
    "A = np.array([[2.0, 0.], [0., 1.0]])\n",
    "b = np.zeros(2)\n",
    "oracle = oracles.QuadraticOracle(A, b)\n",
    "print('Число обусловленности:', np.linalg.norm(A) * np.linalg.norm(np.linalg.inv(A)))"
   ]
  },
  {
   "cell_type": "code",
   "execution_count": null,
   "id": "25a21b48-53e0-48e2-bb52-7b9ffdc7314e",
   "metadata": {},
   "outputs": [],
   "source": [
    "fig, ax = plt.subplots(len(methods), len(x_start), figsize = (30,50))\n",
    "for i in range(len(methods)):\n",
    "    for j in range(len(x_start)):\n",
    "        [x_star, msg, history] = optimization.gradient_descent(oracle, x_start[j], line_search_options = methods[i], trace=True)\n",
    "        plot_levels(oracle.func, ax[i][j])\n",
    "        plot_trajectory(oracle.func, history['x'], ax[i][j], label=str(methods[i])[1:-1])\n",
    "        ax[i][j].set_title(\"x_start: \" + str(x_start[j]))\n",
    "        ax[i][j].legend()"
   ]
  },
  {
   "cell_type": "markdown",
   "id": "fb26bf83-7b2b-46bf-9ea0-e5a5b21d3a30",
   "metadata": {},
   "source": [
    "### 1.2. Плохо обусловленная матрица"
   ]
  },
  {
   "cell_type": "code",
   "execution_count": null,
   "id": "2a1e9d44-8fd8-42ae-9ba4-bc37fb208be8",
   "metadata": {},
   "outputs": [],
   "source": [
    "A = np.array([[1., -1.1],[-1.1, 2.001]])\n",
    "b = np.array([2., 2.2])\n",
    "oracle = oracles.QuadraticOracle(A, b)\n",
    "print('Число обусловленности:', np.linalg.norm(A) * np.linalg.norm(np.linalg.inv(A)))"
   ]
  },
  {
   "cell_type": "markdown",
   "id": "7f8d8e9e-0d27-466a-b1cb-588253fc8a79",
   "metadata": {},
   "source": [
    "## Text\n",
    "Ответ: с учётом точности и числа итераций, лучше всего себя показывает метод Вульфа.\n",
    "\n",
    "В зависимости от выбора начальной точки может увеличиться чисто тераций.\n",
    "\n",
    "При плохо обусловленной матрице особенно заметны характерные зигзаги.'''"
   ]
  },
  {
   "cell_type": "markdown",
   "id": "14e1f6ce-4a62-4d6e-998d-e6651410fea8",
   "metadata": {},
   "source": [
    "## 2. Эксперимент: Зависимость числа итераций градиентного спуска от числа обусловленности и размерности пространства"
   ]
  },
  {
   "cell_type": "markdown",
   "id": "455156a9-b35b-4736-9e18-01544f30796a",
   "metadata": {},
   "source": [
    "Исследуйте, как зависит число итераций, необходимое градиентному спуску для сходимости, от следующих двух параметров: 1) числа обусловленности κ ≥ 1 оптимизируемой функции и 2) размерности пространства n оптимизируемых переменных."
   ]
  },
  {
   "cell_type": "code",
   "execution_count": null,
   "id": "a79e63ac-01ca-4524-abdf-de4fd2f7b001",
   "metadata": {},
   "outputs": [],
   "source": [
    "K = np.arange(1, 101, 10)\n",
    "options = [(10, 'r'), (100, 'b'), (1000, 'g')]\n",
    "methods = [{'method': 'Constant', \"c\":0.01}, \n",
    "           {'method':'Armijo', 'alpha_0':1.0, 'c1':0.95}, \n",
    "           {\"method\":'Wolfe', 'c1':1e-3, 'c2':0.9, 'alpha_0':1.0}]"
   ]
  },
  {
   "cell_type": "code",
   "execution_count": null,
   "id": "e9ad6587-8277-4c79-a71a-5c1d10003013",
   "metadata": {},
   "outputs": [],
   "source": [
    "fig, ax = plt.subplots(3, 1, figsize=(15,50))\n",
    "\n",
    "for i in range(len(methods)):\n",
    "    for option in options:\n",
    "        I = np.zeros(len(K))\n",
    "        for j in range(10):\n",
    "            it = []\n",
    "            for k in K:\n",
    "                diag = np.random.uniform(1, k, option[0])\n",
    "                diag[0] = 1.; diag[-1] = k\n",
    "                A = scipy.sparse.diags(diag)\n",
    "                b = np.random.rand(option[0])*k\n",
    "                oracle = oracles.QuadraticOracle(A, b)\n",
    "                _, _, history = optimization.gradient_descent(oracle, np.ones(option[0]), \n",
    "                                                              line_search_options = methods[i], trace=True)\n",
    "                it.append(len(history['func']))\n",
    "            I += np.array(it)\n",
    "            ax[i].plot(K, it, color=option[1], linestyle='dashed', alpha=0.2)\n",
    "        ax[i].plot(K, I / 10, color=option[1], label=('n = '+str(option[0])))\n",
    "        ax[i].legend()\n",
    "        ax[i].set_xlabel(\"Число обусловленности\")\n",
    "        ax[i].set_ylabel(\"Число итераций\")\n",
    "        ax[i].set_title(methods[i]['method'])\n",
    "        ax[i].grid()"
   ]
  },
  {
   "cell_type": "markdown",
   "id": "1d9ba669-387f-4c49-9a99-a3932131db0a",
   "metadata": {},
   "source": [
    "# Text\n",
    "Ответ: С ростом числа обусловленности растёт число итераций (линейно), однако размерность не критично влияет на рост числа итераций."
   ]
  },
  {
   "cell_type": "markdown",
   "id": "f1cb5168-e385-4d30-b13b-2eaf1eecdfcd",
   "metadata": {},
   "source": [
    "## 3. Эксперимент: Сравнение методов градиентного спуска и Ньютона на реальной задаче логистической регрессии"
   ]
  },
  {
   "cell_type": "markdown",
   "id": "66b882b0-3788-43b8-83ad-ba542a172d23",
   "metadata": {},
   "source": [
    "## 3.3 Эксперимент: Сравнение методов градиентного спуска и Ньютона на реальной задаче логистической регрессии\n",
    "\n",
    "Сравнить методы градиентного спуска и Ньютона на задаче обучения логистической регрессии на\n",
    "реальных данных.\n",
    "\n",
    "В качестве реальных данных используйте следующие три набора с сайта LIBSVM [http://www.csie.ntu.edu.tw/~cjlin/libsvmtools/datasets/.](http://www.csie.ntu.edu.tw/~cjlin/libsvmtools/datasets/.)\n",
    ": *w8a*, *gisette* и *real-sim*. Коэффициент регуляризации взять стандартным образом: $λ = 1/m$.\n",
    "Параметры обоих методов взять равными параметрам по умолчанию. Начальную точку выбрать\n",
    "$x_0 = 0$.\n",
    "\n",
    "Построить графики сходимости следующих двух видов:  \n",
    "1) Зависимость значения функции от реального времени работы метода.  \n",
    "2) Зависимость относительного квадрата нормы градиента $‖∇f(x_k)‖^2_2 /‖∇f(x_0)‖^2_2$ (в логарифмической шкале) против реального времени работы.\n",
    "\n",
    "При этом оба метода (градиентный спуск и Ньютон) нужно рисовать на одном и том же графике.\n",
    "Укажите в отчете, какова стоимость итерации и сколько памяти требуется каждому из методов в\n",
    "зависимости от параметров $m$ (размер выборки) и $n$ (размерность пространства). При оценке используйте нотацию $O(·)$, скрывающую внутри себя абсолютные константы.\n",
    "\n",
    "Какие выводы можно сделать по результатам этого эксперимента? Какой из методов лучше и в\n",
    "каких ситуациях?\n",
    "\n",
    "**Рекомендация:** Любой набор данных с сайта LIBSVM представляет из себя текстовый файл в фор-\n",
    "мате svmlight. Чтобы считать такой текстовый файл, можно использовать функцию `load_svmlight_file` из модуля `sklearn.datasets`. Обратите внимание, что эта функция возвращает матрицу в формате `scipy.sparse.csr_matrix`, поэтому Ваша реализация логистического оракула должна поддерживать такие матрицы."
   ]
  },
  {
   "cell_type": "code",
   "execution_count": null,
   "id": "4bbc072b-5b53-4e0b-9537-c888c8c0d3ca",
   "metadata": {},
   "outputs": [],
   "source": [
    "A1, b1 = load_svmlight_file('данные/w8a.txt')\n",
    "A2, b2 = load_svmlight_file('данные/gisette_scale.bz2')\n",
    "A3, b3 = load_svmlight_file('данные/real-sim.bz2')"
   ]
  },
  {
   "cell_type": "code",
   "execution_count": null,
   "id": "d827333e-1477-4144-a4f5-29a48602c879",
   "metadata": {},
   "outputs": [],
   "source": [
    "data = [(A1, b1, \"w8a\"), (A2, b2, \"gisette_scale\"), (A3, b3, \"real-sim\")]"
   ]
  },
  {
   "cell_type": "code",
   "execution_count": null,
   "id": "88c81edd-98d3-48b6-9b8a-7bc23e73c2d9",
   "metadata": {},
   "outputs": [],
   "source": [
    "def visualize_time(item):\n",
    "    regcoef = 1 / len(item[1])\n",
    "    oracle = oracles.create_log_reg_oracle(item[0], item[1], regcoef)\n",
    "    _, _, history_gd = optimization.gradient_descent(oracle, np.zeros(item[0].shape[1]), trace=True)\n",
    "    _, _, history_n = optimization.newton(oracle, np.zeros(item[0].shape[1]), trace=True)\n",
    "\n",
    "    ax[0].plot(history_gd['time'], history_gd['func'], label=\"Градиентный спуск\")\n",
    "    ax[0].plot(history_n['time'], history_n['func'], label=\"Ньютон\")\n",
    "    ax[0].set_xlabel('Время работы')\n",
    "    ax[0].set_ylabel('Значение функции')\n",
    "    ax[0].legend()\n",
    "    ax[0].set_title(item[2])\n",
    "    ax[0].grid()\n",
    "\n",
    "    ax[1].plot(history_gd['time'], np.array(history_gd['grad_norm'])**2 / (history_gd['grad_norm'][0]**2), label=\"Градиентный спуск\")\n",
    "    ax[1].plot(history_n['time'], np.array(history_n['grad_norm'])**2 / (history_n['grad_norm'][0]**2), label=\"Ньютон\")\n",
    "    ax[1].set_yscale('log')\n",
    "    ax[1].set_xlabel('Время работы')\n",
    "    ax[1].set_ylabel(r'$\\vert\\vert \\nabla f(x_k) \\vert\\vert_2^2 / \\vert\\vert \\nabla f(x_0) \\vert\\vert_2^2$')\n",
    "    ax[1].legend()\n",
    "    ax[1].set_title(item[2])\n",
    "    ax[1].grid()"
   ]
  },
  {
   "cell_type": "code",
   "execution_count": null,
   "id": "de20e3d3-0f9c-4ad6-8ed5-5a8f9fff6185",
   "metadata": {},
   "outputs": [],
   "source": [
    "fig, ax = plt.subplots(1, 2, figsize=(15,5))\n",
    "visualize_time(data[0])"
   ]
  },
  {
   "cell_type": "code",
   "execution_count": null,
   "id": "613baa79-3ba0-4a9a-ac45-56e78fc39a5a",
   "metadata": {},
   "outputs": [],
   "source": [
    "fig, ax = plt.subplots(1, 2, figsize=(15,5))\n",
    "visualize_time(data[1])"
   ]
  },
  {
   "cell_type": "code",
   "execution_count": null,
   "id": "d5c02a47-8bae-4d67-85b0-b5521b2a4e09",
   "metadata": {},
   "outputs": [],
   "source": [
    "fig, ax = plt.subplots(1, 2, figsize=(15,5))\n",
    "visualize_time(data[2])"
   ]
  },
  {
   "cell_type": "markdown",
   "id": "f1c692b7-4288-4abf-9b81-af18dc1032c0",
   "metadata": {},
   "source": [
    "# Text\n",
    "Замечание: К сожалению, мой ноутбук за несколько часов не смог осилить вычисления для данных gisette_scale и real-sim. Буду делать выводы на основе данных w8a.\n",
    "\n",
    "Ответ: Метод градиента работает быстрее в начале, однако замедляется в целом требует больше времени для получения малой заданной точности."
   ]
  }
 ],
 "metadata": {
  "kernelspec": {
   "display_name": "Python 3 (ipykernel)",
   "language": "python",
   "name": "python3"
  },
  "language_info": {
   "codemirror_mode": {
    "name": "ipython",
    "version": 3
   },
   "file_extension": ".py",
   "mimetype": "text/x-python",
   "name": "python",
   "nbconvert_exporter": "python",
   "pygments_lexer": "ipython3",
   "version": "3.11.6"
  }
 },
 "nbformat": 4,
 "nbformat_minor": 5
}
